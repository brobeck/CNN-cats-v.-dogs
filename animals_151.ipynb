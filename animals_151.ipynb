{
  "nbformat": 4,
  "nbformat_minor": 0,
  "metadata": {
    "colab": {
      "name": "animals_151.ipynb",
      "provenance": [],
      "mount_file_id": "1dSFzLicpBbcVJzuPhly--cCDRuTYwBRy",
      "authorship_tag": "ABX9TyNTFWMpZMibKqRJyJhrW1WD"
    },
    "kernelspec": {
      "name": "python3",
      "display_name": "Python 3"
    },
    "language_info": {
      "name": "python"
    },
    "accelerator": "GPU"
  },
  "cells": [
    {
      "cell_type": "code",
      "execution_count": 1,
      "metadata": {
        "id": "twKEO--IR-5X"
      },
      "outputs": [],
      "source": [
        "import pandas as pd\n",
        "import tensorflow as tf\n",
        "from tensorflow import keras\n",
        "from tensorflow.keras import layers\n",
        "from tensorflow.keras.applications.vgg19 import VGG19\n",
        "from tensorflow.keras.preprocessing import image\n",
        "from tensorflow.keras.models import Model\n",
        "import numpy as np"
      ]
    },
    {
      "cell_type": "code",
      "source": [
        "! unzip -q \"/content/drive/MyDrive/datasets/animals151.zip\""
      ],
      "metadata": {
        "id": "qU8C_QIRSw1K"
      },
      "execution_count": 2,
      "outputs": []
    },
    {
      "cell_type": "code",
      "source": [
        "train_ds = keras.utils.image_dataset_from_directory(\n",
        "    '/content/dataset/dataset',\n",
        "    labels=\"inferred\",\n",
        "    batch_size=32,\n",
        "    image_size=(224, 224),\n",
        "    seed=123,\n",
        "    validation_split=0.2,\n",
        "    subset='training',\n",
        ")\n",
        "\n",
        "validation_ds = keras.utils.image_dataset_from_directory(\n",
        "    '/content/dataset/dataset',\n",
        "    labels=\"inferred\",\n",
        "    batch_size=32,\n",
        "    image_size=(224, 224),\n",
        "    seed=123,\n",
        "    validation_split=0.2,\n",
        "    subset='validation',\n",
        ")"
      ],
      "metadata": {
        "colab": {
          "base_uri": "https://localhost:8080/"
        },
        "id": "tOsJ3UlbTBnH",
        "outputId": "b5daf43c-0e50-4718-bb21-0b45520136d4"
      },
      "execution_count": 32,
      "outputs": [
        {
          "output_type": "stream",
          "name": "stdout",
          "text": [
            "Found 6270 files belonging to 151 classes.\n",
            "Using 5016 files for training.\n",
            "Found 6270 files belonging to 151 classes.\n",
            "Using 1254 files for validation.\n"
          ]
        }
      ]
    },
    {
      "cell_type": "code",
      "source": [
        "data_augmentation = keras.Sequential(\n",
        "    [\n",
        "        layers.RandomFlip(\"horizontal\"),\n",
        "        layers.RandomRotation(0.1),\n",
        "    ]\n",
        ")"
      ],
      "metadata": {
        "id": "cBYsU-42WPuV"
      },
      "execution_count": 29,
      "outputs": []
    },
    {
      "cell_type": "code",
      "source": [
        "AUTOTUNE = tf.data.AUTOTUNE\n",
        "\n",
        "train_ds = train_ds.cache().prefetch(buffer_size=AUTOTUNE)\n",
        "validation_ds = validation_ds.cache().prefetch(buffer_size=AUTOTUNE)"
      ],
      "metadata": {
        "id": "OO8i-6gxWgNL"
      },
      "execution_count": 33,
      "outputs": []
    },
    {
      "cell_type": "code",
      "source": [
        "# create the base pre-trained model\n",
        "base_model = VGG19(weights='imagenet', include_top=False)\n",
        "base_model.trainable = False\n",
        "base_model.summary()"
      ],
      "metadata": {
        "colab": {
          "base_uri": "https://localhost:8080/"
        },
        "id": "q_ubVYHX33bQ",
        "outputId": "17db72a3-8f62-4b23-ff22-fb15b06a3e67"
      },
      "execution_count": 12,
      "outputs": [
        {
          "output_type": "stream",
          "name": "stdout",
          "text": [
            "Model: \"vgg19\"\n",
            "_________________________________________________________________\n",
            " Layer (type)                Output Shape              Param #   \n",
            "=================================================================\n",
            " input_6 (InputLayer)        [(None, None, None, 3)]   0         \n",
            "                                                                 \n",
            " block1_conv1 (Conv2D)       (None, None, None, 64)    1792      \n",
            "                                                                 \n",
            " block1_conv2 (Conv2D)       (None, None, None, 64)    36928     \n",
            "                                                                 \n",
            " block1_pool (MaxPooling2D)  (None, None, None, 64)    0         \n",
            "                                                                 \n",
            " block2_conv1 (Conv2D)       (None, None, None, 128)   73856     \n",
            "                                                                 \n",
            " block2_conv2 (Conv2D)       (None, None, None, 128)   147584    \n",
            "                                                                 \n",
            " block2_pool (MaxPooling2D)  (None, None, None, 128)   0         \n",
            "                                                                 \n",
            " block3_conv1 (Conv2D)       (None, None, None, 256)   295168    \n",
            "                                                                 \n",
            " block3_conv2 (Conv2D)       (None, None, None, 256)   590080    \n",
            "                                                                 \n",
            " block3_conv3 (Conv2D)       (None, None, None, 256)   590080    \n",
            "                                                                 \n",
            " block3_conv4 (Conv2D)       (None, None, None, 256)   590080    \n",
            "                                                                 \n",
            " block3_pool (MaxPooling2D)  (None, None, None, 256)   0         \n",
            "                                                                 \n",
            " block4_conv1 (Conv2D)       (None, None, None, 512)   1180160   \n",
            "                                                                 \n",
            " block4_conv2 (Conv2D)       (None, None, None, 512)   2359808   \n",
            "                                                                 \n",
            " block4_conv3 (Conv2D)       (None, None, None, 512)   2359808   \n",
            "                                                                 \n",
            " block4_conv4 (Conv2D)       (None, None, None, 512)   2359808   \n",
            "                                                                 \n",
            " block4_pool (MaxPooling2D)  (None, None, None, 512)   0         \n",
            "                                                                 \n",
            " block5_conv1 (Conv2D)       (None, None, None, 512)   2359808   \n",
            "                                                                 \n",
            " block5_conv2 (Conv2D)       (None, None, None, 512)   2359808   \n",
            "                                                                 \n",
            " block5_conv3 (Conv2D)       (None, None, None, 512)   2359808   \n",
            "                                                                 \n",
            " block5_conv4 (Conv2D)       (None, None, None, 512)   2359808   \n",
            "                                                                 \n",
            " block5_pool (MaxPooling2D)  (None, None, None, 512)   0         \n",
            "                                                                 \n",
            "=================================================================\n",
            "Total params: 20,024,384\n",
            "Trainable params: 0\n",
            "Non-trainable params: 20,024,384\n",
            "_________________________________________________________________\n"
          ]
        }
      ]
    },
    {
      "cell_type": "code",
      "source": [
        "preprocess_input = keras.applications.vgg19.preprocess_input"
      ],
      "metadata": {
        "id": "WiUiONdP-6-k"
      },
      "execution_count": 17,
      "outputs": []
    },
    {
      "cell_type": "code",
      "source": [
        "inputs = keras.Input(shape=(224, 224, 3))\n",
        "x = data_augmentation(inputs)\n",
        "\n",
        "x = preprocess_input(x)\n",
        "\n",
        "x = base_model(x, training=False)\n",
        "x = keras.layers.GlobalAveragePooling2D()(x)\n",
        "x = keras.layers.Dropout(0.2)(x)  \n",
        "\n",
        "# maybe overkill\n",
        "x = layers.Dense(1024, activation='relu')(x)\n",
        "x = keras.layers.Dropout(0.2)(x) \n",
        "\n",
        "outputs = layers.Dense(151, activation='softmax')(x)\n",
        "\n",
        "vgg19_transfer_model = keras.Model(inputs, outputs)\n",
        "vgg19_transfer_model.summary()"
      ],
      "metadata": {
        "colab": {
          "base_uri": "https://localhost:8080/"
        },
        "id": "HuhBIIQe7Egh",
        "outputId": "6b389aa0-9577-4127-c02c-4c6d528b9e76"
      },
      "execution_count": 30,
      "outputs": [
        {
          "output_type": "stream",
          "name": "stdout",
          "text": [
            "Model: \"model_7\"\n",
            "_________________________________________________________________\n",
            " Layer (type)                Output Shape              Param #   \n",
            "=================================================================\n",
            " input_14 (InputLayer)       [(None, 224, 224, 3)]     0         \n",
            "                                                                 \n",
            " sequential_2 (Sequential)   (None, 224, 224, 3)       0         \n",
            "                                                                 \n",
            " tf.__operators__.getitem_4   (None, 224, 224, 3)      0         \n",
            " (SlicingOpLambda)                                               \n",
            "                                                                 \n",
            " tf.nn.bias_add_4 (TFOpLambd  (None, 224, 224, 3)      0         \n",
            " a)                                                              \n",
            "                                                                 \n",
            " vgg19 (Functional)          (None, None, None, 512)   20024384  \n",
            "                                                                 \n",
            " global_average_pooling2d_6   (None, 512)              0         \n",
            " (GlobalAveragePooling2D)                                        \n",
            "                                                                 \n",
            " dropout_10 (Dropout)        (None, 512)               0         \n",
            "                                                                 \n",
            " dense_14 (Dense)            (None, 1024)              525312    \n",
            "                                                                 \n",
            " dropout_11 (Dropout)        (None, 1024)              0         \n",
            "                                                                 \n",
            " dense_15 (Dense)            (None, 151)               154775    \n",
            "                                                                 \n",
            "=================================================================\n",
            "Total params: 20,704,471\n",
            "Trainable params: 680,087\n",
            "Non-trainable params: 20,024,384\n",
            "_________________________________________________________________\n"
          ]
        }
      ]
    },
    {
      "cell_type": "code",
      "source": [
        "vgg19_transfer_model.compile(\n",
        "    optimizer = keras.optimizers.Adam(1e-3),\n",
        "    loss = tf.keras.losses.SparseCategoricalCrossentropy(),\n",
        "    metrics = [\"accuracy\"],\n",
        ")\n",
        "\n",
        "history = vgg19_transfer_model.fit(train_ds, epochs=20, validation_data=validation_ds)"
      ],
      "metadata": {
        "colab": {
          "base_uri": "https://localhost:8080/"
        },
        "id": "NqXXx5GoeJ_M",
        "outputId": "e0b30421-f698-43d0-8230-97971a6a07ca"
      },
      "execution_count": 34,
      "outputs": [
        {
          "output_type": "stream",
          "name": "stdout",
          "text": [
            "Epoch 1/20\n",
            "157/157 [==============================] - 71s 442ms/step - loss: 3.5749 - accuracy: 0.3614 - val_loss: 1.0884 - val_accuracy: 0.7265\n",
            "Epoch 2/20\n",
            "157/157 [==============================] - 67s 426ms/step - loss: 1.2977 - accuracy: 0.6730 - val_loss: 0.8657 - val_accuracy: 0.7791\n",
            "Epoch 3/20\n",
            "157/157 [==============================] - 67s 426ms/step - loss: 0.9477 - accuracy: 0.7472 - val_loss: 0.8604 - val_accuracy: 0.7911\n",
            "Epoch 4/20\n",
            "157/157 [==============================] - 67s 426ms/step - loss: 0.7457 - accuracy: 0.7978 - val_loss: 0.8736 - val_accuracy: 0.7998\n",
            "Epoch 5/20\n",
            "157/157 [==============================] - 67s 426ms/step - loss: 0.6088 - accuracy: 0.8297 - val_loss: 0.8168 - val_accuracy: 0.8054\n",
            "Epoch 6/20\n",
            "157/157 [==============================] - 67s 426ms/step - loss: 0.5353 - accuracy: 0.8499 - val_loss: 0.8559 - val_accuracy: 0.8142\n",
            "Epoch 7/20\n",
            "157/157 [==============================] - 67s 426ms/step - loss: 0.4760 - accuracy: 0.8632 - val_loss: 0.8783 - val_accuracy: 0.8206\n",
            "Epoch 8/20\n",
            "157/157 [==============================] - 67s 426ms/step - loss: 0.4702 - accuracy: 0.8660 - val_loss: 0.8986 - val_accuracy: 0.8142\n",
            "Epoch 9/20\n",
            "157/157 [==============================] - 67s 426ms/step - loss: 0.4274 - accuracy: 0.8810 - val_loss: 1.0571 - val_accuracy: 0.7839\n",
            "Epoch 10/20\n",
            "157/157 [==============================] - 67s 426ms/step - loss: 0.4259 - accuracy: 0.8866 - val_loss: 0.8968 - val_accuracy: 0.8262\n",
            "Epoch 11/20\n",
            "157/157 [==============================] - 67s 426ms/step - loss: 0.3585 - accuracy: 0.8931 - val_loss: 0.8589 - val_accuracy: 0.8293\n",
            "Epoch 12/20\n",
            "157/157 [==============================] - 67s 426ms/step - loss: 0.3525 - accuracy: 0.8979 - val_loss: 0.8664 - val_accuracy: 0.8333\n",
            "Epoch 13/20\n",
            "157/157 [==============================] - 67s 425ms/step - loss: 0.3682 - accuracy: 0.9027 - val_loss: 0.8324 - val_accuracy: 0.8309\n",
            "Epoch 14/20\n",
            "157/157 [==============================] - 67s 425ms/step - loss: 0.3219 - accuracy: 0.9079 - val_loss: 0.9824 - val_accuracy: 0.8238\n",
            "Epoch 15/20\n",
            "157/157 [==============================] - 67s 425ms/step - loss: 0.3259 - accuracy: 0.9111 - val_loss: 0.8354 - val_accuracy: 0.8389\n",
            "Epoch 16/20\n",
            "157/157 [==============================] - 67s 426ms/step - loss: 0.2779 - accuracy: 0.9183 - val_loss: 1.0102 - val_accuracy: 0.8285\n",
            "Epoch 17/20\n",
            "157/157 [==============================] - 67s 425ms/step - loss: 0.3070 - accuracy: 0.9197 - val_loss: 0.9840 - val_accuracy: 0.8349\n",
            "Epoch 18/20\n",
            "157/157 [==============================] - 67s 425ms/step - loss: 0.2909 - accuracy: 0.9183 - val_loss: 0.9568 - val_accuracy: 0.8349\n",
            "Epoch 19/20\n",
            "157/157 [==============================] - 67s 425ms/step - loss: 0.3039 - accuracy: 0.9185 - val_loss: 0.9628 - val_accuracy: 0.8333\n",
            "Epoch 20/20\n",
            "157/157 [==============================] - 67s 425ms/step - loss: 0.2717 - accuracy: 0.9246 - val_loss: 1.0768 - val_accuracy: 0.8254\n"
          ]
        }
      ]
    },
    {
      "cell_type": "code",
      "source": [
        "base_model.trainable = True\n",
        "base_model.summary()"
      ],
      "metadata": {
        "colab": {
          "base_uri": "https://localhost:8080/"
        },
        "id": "lGuK6gh5Ihp1",
        "outputId": "ce8e8837-90f1-46fc-d0d7-c3300a296501"
      },
      "execution_count": 35,
      "outputs": [
        {
          "output_type": "stream",
          "name": "stdout",
          "text": [
            "Model: \"vgg19\"\n",
            "_________________________________________________________________\n",
            " Layer (type)                Output Shape              Param #   \n",
            "=================================================================\n",
            " input_6 (InputLayer)        [(None, None, None, 3)]   0         \n",
            "                                                                 \n",
            " block1_conv1 (Conv2D)       (None, None, None, 64)    1792      \n",
            "                                                                 \n",
            " block1_conv2 (Conv2D)       (None, None, None, 64)    36928     \n",
            "                                                                 \n",
            " block1_pool (MaxPooling2D)  (None, None, None, 64)    0         \n",
            "                                                                 \n",
            " block2_conv1 (Conv2D)       (None, None, None, 128)   73856     \n",
            "                                                                 \n",
            " block2_conv2 (Conv2D)       (None, None, None, 128)   147584    \n",
            "                                                                 \n",
            " block2_pool (MaxPooling2D)  (None, None, None, 128)   0         \n",
            "                                                                 \n",
            " block3_conv1 (Conv2D)       (None, None, None, 256)   295168    \n",
            "                                                                 \n",
            " block3_conv2 (Conv2D)       (None, None, None, 256)   590080    \n",
            "                                                                 \n",
            " block3_conv3 (Conv2D)       (None, None, None, 256)   590080    \n",
            "                                                                 \n",
            " block3_conv4 (Conv2D)       (None, None, None, 256)   590080    \n",
            "                                                                 \n",
            " block3_pool (MaxPooling2D)  (None, None, None, 256)   0         \n",
            "                                                                 \n",
            " block4_conv1 (Conv2D)       (None, None, None, 512)   1180160   \n",
            "                                                                 \n",
            " block4_conv2 (Conv2D)       (None, None, None, 512)   2359808   \n",
            "                                                                 \n",
            " block4_conv3 (Conv2D)       (None, None, None, 512)   2359808   \n",
            "                                                                 \n",
            " block4_conv4 (Conv2D)       (None, None, None, 512)   2359808   \n",
            "                                                                 \n",
            " block4_pool (MaxPooling2D)  (None, None, None, 512)   0         \n",
            "                                                                 \n",
            " block5_conv1 (Conv2D)       (None, None, None, 512)   2359808   \n",
            "                                                                 \n",
            " block5_conv2 (Conv2D)       (None, None, None, 512)   2359808   \n",
            "                                                                 \n",
            " block5_conv3 (Conv2D)       (None, None, None, 512)   2359808   \n",
            "                                                                 \n",
            " block5_conv4 (Conv2D)       (None, None, None, 512)   2359808   \n",
            "                                                                 \n",
            " block5_pool (MaxPooling2D)  (None, None, None, 512)   0         \n",
            "                                                                 \n",
            "=================================================================\n",
            "Total params: 20,024,384\n",
            "Trainable params: 20,024,384\n",
            "Non-trainable params: 0\n",
            "_________________________________________________________________\n"
          ]
        }
      ]
    },
    {
      "cell_type": "code",
      "source": [
        "vgg19_transfer_model.summary()"
      ],
      "metadata": {
        "colab": {
          "base_uri": "https://localhost:8080/"
        },
        "id": "CDnLFBwuInTI",
        "outputId": "4d007d04-8b90-4101-bfcd-ffdd98c916ce"
      },
      "execution_count": 36,
      "outputs": [
        {
          "output_type": "stream",
          "name": "stdout",
          "text": [
            "Model: \"model_7\"\n",
            "_________________________________________________________________\n",
            " Layer (type)                Output Shape              Param #   \n",
            "=================================================================\n",
            " input_14 (InputLayer)       [(None, 224, 224, 3)]     0         \n",
            "                                                                 \n",
            " sequential_2 (Sequential)   (None, 224, 224, 3)       0         \n",
            "                                                                 \n",
            " tf.__operators__.getitem_4   (None, 224, 224, 3)      0         \n",
            " (SlicingOpLambda)                                               \n",
            "                                                                 \n",
            " tf.nn.bias_add_4 (TFOpLambd  (None, 224, 224, 3)      0         \n",
            " a)                                                              \n",
            "                                                                 \n",
            " vgg19 (Functional)          (None, None, None, 512)   20024384  \n",
            "                                                                 \n",
            " global_average_pooling2d_6   (None, 512)              0         \n",
            " (GlobalAveragePooling2D)                                        \n",
            "                                                                 \n",
            " dropout_10 (Dropout)        (None, 512)               0         \n",
            "                                                                 \n",
            " dense_14 (Dense)            (None, 1024)              525312    \n",
            "                                                                 \n",
            " dropout_11 (Dropout)        (None, 1024)              0         \n",
            "                                                                 \n",
            " dense_15 (Dense)            (None, 151)               154775    \n",
            "                                                                 \n",
            "=================================================================\n",
            "Total params: 20,704,471\n",
            "Trainable params: 20,704,471\n",
            "Non-trainable params: 0\n",
            "_________________________________________________________________\n"
          ]
        }
      ]
    },
    {
      "cell_type": "code",
      "source": [
        "vgg19_transfer_model.compile(\n",
        "    optimizer = keras.optimizers.Adam(1e-5),\n",
        "    loss = tf.keras.losses.SparseCategoricalCrossentropy(),\n",
        "    metrics = [\"accuracy\"],\n",
        ")\n",
        "\n",
        "history_round2 = vgg19_transfer_model.fit(train_ds, epochs=10, validation_data=validation_ds)"
      ],
      "metadata": {
        "id": "Gw9Vzrw1IPwu"
      },
      "execution_count": null,
      "outputs": []
    }
  ]
}