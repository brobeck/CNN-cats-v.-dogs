{
  "nbformat": 4,
  "nbformat_minor": 0,
  "metadata": {
    "colab": {
      "name": "cats_v_dogs.ipynb",
      "provenance": [],
      "authorship_tag": "ABX9TyOEjTOpitgYsBGEhVgRBBeC"
    },
    "kernelspec": {
      "name": "python3",
      "display_name": "Python 3"
    },
    "language_info": {
      "name": "python"
    }
  },
  "cells": [
    {
      "cell_type": "code",
      "execution_count": 1,
      "metadata": {
        "id": "arbkwGFyFXy-"
      },
      "outputs": [],
      "source": [
        "import pandas as pd\n",
        "import numpy as np\n",
        "import tensorflow as tf"
      ]
    },
    {
      "cell_type": "code",
      "source": [
        "! pip install -q kaggle\n",
        "! mkdir ~/.kaggle\n",
        "! mv kaggle.json ~/.kaggle/\n",
        "! chmod 600 ~/.kaggle/kaggle.json"
      ],
      "metadata": {
        "id": "muWhiVuoQLgg"
      },
      "execution_count": 2,
      "outputs": []
    },
    {
      "cell_type": "code",
      "source": [
        "! kaggle datasets download -d karakaggle/kaggle-cat-vs-dog-dataset"
      ],
      "metadata": {
        "id": "4dU_enwGMvqr"
      },
      "execution_count": null,
      "outputs": []
    },
    {
      "cell_type": "code",
      "source": [
        "! unzip kaggle-cat-vs-dog-dataset.zip"
      ],
      "metadata": {
        "id": "XwnOym-GQ2My"
      },
      "execution_count": null,
      "outputs": []
    }
  ]
}